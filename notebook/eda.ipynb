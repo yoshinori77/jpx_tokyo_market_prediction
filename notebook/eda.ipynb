{
 "cells": [
  {
   "cell_type": "code",
   "execution_count": 1,
   "metadata": {},
   "outputs": [],
   "source": [
    "import numpy as np # linear algebra\n",
    "import pandas as pd # data processing, CSV file I/O (e.g. pd.read_csv)\n",
    "import matplotlib.pyplot as plt"
   ]
  },
  {
   "cell_type": "code",
   "execution_count": 91,
   "metadata": {},
   "outputs": [],
   "source": [
    "def calc_spread_return_sharpe(df: pd.DataFrame, portfolio_size: int = 200, toprank_weight_ratio: float = 2, rank_col='Rank') -> float:\n",
    "    \"\"\"\n",
    "    Args:\n",
    "        df (pd.DataFrame): predicted results\n",
    "        portfolio_size (int): # of equities to buy/sell\n",
    "        toprank_weight_ratio (float): the relative weight of the most highly ranked stock compared to the least.\n",
    "    Returns:\n",
    "        (float): sharpe ratio\n",
    "    \"\"\"\n",
    "\n",
    "    def _calc_spread_return_per_day(df, portfolio_size, toprank_weight_ratio):\n",
    "        \"\"\"\n",
    "        Args:\n",
    "            df (pd.DataFrame): predicted results\n",
    "            portfolio_size (int): # of equities to buy/sell\n",
    "            toprank_weight_ratio (float): the relative weight of the most highly ranked stock compared to the least.\n",
    "        Returns:\n",
    "            (float): spread return\n",
    "        \"\"\"\n",
    "        assert df[rank_col].min() == 0\n",
    "        assert df[rank_col].max() == len(df[rank_col]) - 1\n",
    "        weights = np.linspace(start=toprank_weight_ratio, stop=1, num=portfolio_size)\n",
    "        purchase = (df.sort_values(by=rank_col)['Target'][:portfolio_size] * weights).sum() / weights.mean()\n",
    "        short = (df.sort_values(by=rank_col, ascending=False)['Target'][:portfolio_size] * weights).sum() / weights.mean()\n",
    "        return purchase - short\n",
    "\n",
    "    buf = df.groupby('Date').apply(_calc_spread_return_per_day, portfolio_size, toprank_weight_ratio)\n",
    "    sharpe_ratio = buf.mean() / buf.std()\n",
    "    return sharpe_ratio, buf"
   ]
  },
  {
   "cell_type": "code",
   "execution_count": 92,
   "metadata": {},
   "outputs": [],
   "source": [
    "def set_rank(df):\n",
    "    \"\"\"\n",
    "    Args:\n",
    "        df (pd.DataFrame): including predict column\n",
    "    Returns:\n",
    "        df (pd.DataFrame): df with Rank\n",
    "    \"\"\"\n",
    "    # sort records to set Rank\n",
    "    df = df.sort_values(\"predict\", ascending=False)\n",
    "    # set Rank starting from 0\n",
    "    df.loc[:, \"Rank\"] = np.arange(len(df[\"predict\"]))\n",
    "    return df"
   ]
  },
  {
   "cell_type": "code",
   "execution_count": 4,
   "metadata": {},
   "outputs": [],
   "source": [
    "train = pd.read_parquet('../Output/financials_train_agg_df.parquet')\n",
    "val = pd.read_parquet('../Output/financials_val_agg_df.parquet')\n",
    "df = pd.concat([train, val]).reset_index(drop=True)"
   ]
  },
  {
   "cell_type": "code",
   "execution_count": 37,
   "metadata": {},
   "outputs": [],
   "source": [
    "df['PreviousTarget_1'] = df.groupby('SecuritiesCode')['Target'].shift(1)\n",
    "df['PreviousTarget_2'] = df.groupby('SecuritiesCode')['Target'].shift(2)\n",
    "df['PreviousTarget_3'] = df.groupby('SecuritiesCode')['Target'].shift(3)\n",
    "df['PreviousTarget_4'] = df.groupby('SecuritiesCode')['Target'].shift(4)\n",
    "df['PreviousTarget_5'] = df.groupby('SecuritiesCode')['Target'].shift(5)\n",
    "df['PreviousTarget_6'] = df.groupby('SecuritiesCode')['Target'].shift(6)\n",
    "df['PreviousTarget_7'] = df.groupby('SecuritiesCode')['Target'].shift(7)\n",
    "df['PreviousTarget_8'] = df.groupby('SecuritiesCode')['Target'].shift(8)\n",
    "df['PreviousTarget_9'] = df.groupby('SecuritiesCode')['Target'].shift(9)"
   ]
  },
  {
   "cell_type": "code",
   "execution_count": 64,
   "metadata": {},
   "outputs": [],
   "source": [
    "df['ror_1_shift1'] = df.groupby('SecuritiesCode')['ror_1'].shift(1)\n",
    "df['ror_1_shift2'] = df.groupby('SecuritiesCode')['ror_1'].shift(2)\n",
    "df['ror_1_shift3'] = df.groupby('SecuritiesCode')['ror_1'].shift(3)\n",
    "df['ror_1_shift4'] = df.groupby('SecuritiesCode')['ror_1'].shift(4)\n",
    "df['ror_1_shift5'] = df.groupby('SecuritiesCode')['ror_1'].shift(5)\n",
    "df['ror_1_shift6'] = df.groupby('SecuritiesCode')['ror_1'].shift(6)\n",
    "df['ror_1_shift7'] = df.groupby('SecuritiesCode')['ror_1'].shift(7)\n",
    "df['ror_1_shift8'] = df.groupby('SecuritiesCode')['ror_1'].shift(8)\n",
    "df['ror_1_shift9'] = df.groupby('SecuritiesCode')['ror_1'].shift(9)"
   ]
  },
  {
   "cell_type": "code",
   "execution_count": 65,
   "metadata": {},
   "outputs": [],
   "source": [
    "time_config = {'val_split_date': '2021-12-01',\n",
    "               'test_split_date': '2022-02-01'}\n",
    "\n",
    "train = df[(df.Date < time_config['val_split_date'])]\n",
    "val = df[(df.Date >= time_config['val_split_date']) & (df.Date < time_config['test_split_date'])]\n",
    "test = df[(df.Date >= time_config['test_split_date'])]"
   ]
  },
  {
   "cell_type": "code",
   "execution_count": 93,
   "metadata": {},
   "outputs": [],
   "source": [
    "test['predict'] = test['ror_1_shift1']*-1\n",
    "test = test.sort_values([\"Date\", \"predict\"], ascending=[True, False])\n",
    "ranking = test.groupby(\"Date\").apply(set_rank).reset_index(drop=True)\n",
    "\n",
    "# calc spread return sharpe\n",
    "sharp_ratio, buf = calc_spread_return_sharpe(ranking, portfolio_size=200)"
   ]
  },
  {
   "cell_type": "code",
   "execution_count": 94,
   "metadata": {},
   "outputs": [
    {
     "data": {
      "text/plain": [
       "0.1618741738755916"
      ]
     },
     "execution_count": 94,
     "metadata": {},
     "output_type": "execute_result"
    }
   ],
   "source": [
    "sharp_ratio"
   ]
  },
  {
   "cell_type": "code",
   "execution_count": 95,
   "metadata": {},
   "outputs": [
    {
     "data": {
      "text/plain": [
       "Date\n",
       "2022-02-01    4.602343\n",
       "2022-02-02   -1.052260\n",
       "2022-02-03    2.880099\n",
       "2022-02-04   -2.785277\n",
       "2022-02-07    0.961984\n",
       "2022-02-08    1.774932\n",
       "2022-02-09   -3.853634\n",
       "2022-02-10    1.245647\n",
       "2022-02-14   -0.797264\n",
       "2022-02-15   -3.886581\n",
       "2022-02-16   -1.066982\n",
       "2022-02-17    0.900650\n",
       "2022-02-18   -0.206964\n",
       "2022-02-21   -0.966089\n",
       "2022-02-22    6.164871\n",
       "2022-02-24   -0.258320\n",
       "2022-02-25    6.077303\n",
       "2022-02-28   -1.092726\n",
       "dtype: float64"
      ]
     },
     "execution_count": 95,
     "metadata": {},
     "output_type": "execute_result"
    }
   ],
   "source": [
    "buf"
   ]
  },
  {
   "cell_type": "code",
   "execution_count": 96,
   "metadata": {},
   "outputs": [
    {
     "data": {
      "text/plain": [
       "0.48009618627785994"
      ]
     },
     "execution_count": 96,
     "metadata": {},
     "output_type": "execute_result"
    }
   ],
   "source": [
    "buf.mean()"
   ]
  },
  {
   "cell_type": "code",
   "execution_count": 97,
   "metadata": {},
   "outputs": [],
   "source": [
    "test['predict'] = test['ror_1_shift2']\n",
    "test = test.sort_values([\"Date\", \"predict\"], ascending=[True, False])\n",
    "ranking = test.groupby(\"Date\").apply(set_rank).reset_index(drop=True)\n",
    "\n",
    "# calc spread return sharpe\n",
    "sharp_ratio, buf = calc_spread_return_sharpe(ranking, portfolio_size=200)"
   ]
  },
  {
   "cell_type": "code",
   "execution_count": 98,
   "metadata": {},
   "outputs": [
    {
     "data": {
      "text/plain": [
       "0.09080821888220274"
      ]
     },
     "execution_count": 98,
     "metadata": {},
     "output_type": "execute_result"
    }
   ],
   "source": [
    "sharp_ratio"
   ]
  },
  {
   "cell_type": "code",
   "execution_count": 99,
   "metadata": {},
   "outputs": [
    {
     "data": {
      "text/plain": [
       "Date\n",
       "2022-02-01    1.451282\n",
       "2022-02-02    1.651278\n",
       "2022-02-03   -1.824541\n",
       "2022-02-04   -1.242524\n",
       "2022-02-07   -3.735034\n",
       "2022-02-08   -0.077365\n",
       "2022-02-09    4.909561\n",
       "2022-02-10    2.309318\n",
       "2022-02-14    0.922790\n",
       "2022-02-15   -0.440765\n",
       "2022-02-16   -0.043859\n",
       "2022-02-17    2.010084\n",
       "2022-02-18   -2.522773\n",
       "2022-02-21    1.340138\n",
       "2022-02-22    0.152550\n",
       "2022-02-24   -1.139865\n",
       "2022-02-25   -1.677605\n",
       "2022-02-28    1.311355\n",
       "dtype: float64"
      ]
     },
     "execution_count": 99,
     "metadata": {},
     "output_type": "execute_result"
    }
   ],
   "source": [
    "buf"
   ]
  },
  {
   "cell_type": "code",
   "execution_count": 100,
   "metadata": {},
   "outputs": [
    {
     "data": {
      "text/plain": [
       "0.18633471968731716"
      ]
     },
     "execution_count": 100,
     "metadata": {},
     "output_type": "execute_result"
    }
   ],
   "source": [
    "buf.mean()"
   ]
  },
  {
   "cell_type": "code",
   "execution_count": 122,
   "metadata": {},
   "outputs": [],
   "source": [
    "test['predict'] = test['ror_1_shift3'] * -1\n",
    "test = test.sort_values([\"Date\", \"predict\"], ascending=[True, False])\n",
    "ranking = test.groupby(\"Date\").apply(set_rank).reset_index(drop=True)\n",
    "\n",
    "# calc spread return sharpe\n",
    "sharp_ratio, buf = calc_spread_return_sharpe(ranking, portfolio_size=200)"
   ]
  },
  {
   "cell_type": "code",
   "execution_count": 123,
   "metadata": {},
   "outputs": [
    {
     "data": {
      "text/plain": [
       "0.13753589409622305"
      ]
     },
     "execution_count": 123,
     "metadata": {},
     "output_type": "execute_result"
    }
   ],
   "source": [
    "sharp_ratio"
   ]
  },
  {
   "cell_type": "code",
   "execution_count": 124,
   "metadata": {},
   "outputs": [
    {
     "data": {
      "text/plain": [
       "Date\n",
       "2022-02-01   -7.389684\n",
       "2022-02-02   -0.349925\n",
       "2022-02-03    4.150876\n",
       "2022-02-04    1.586830\n",
       "2022-02-07   -2.600059\n",
       "2022-02-08    2.820603\n",
       "2022-02-09   -0.096992\n",
       "2022-02-10    0.423021\n",
       "2022-02-14   -0.847528\n",
       "2022-02-15    2.390828\n",
       "2022-02-16   -0.973186\n",
       "2022-02-17   -2.640752\n",
       "2022-02-18    0.117383\n",
       "2022-02-21    2.396205\n",
       "2022-02-22    6.192549\n",
       "2022-02-24    0.393667\n",
       "2022-02-25    3.898203\n",
       "2022-02-28   -1.802206\n",
       "dtype: float64"
      ]
     },
     "execution_count": 124,
     "metadata": {},
     "output_type": "execute_result"
    }
   ],
   "source": [
    "buf"
   ]
  },
  {
   "cell_type": "code",
   "execution_count": 125,
   "metadata": {},
   "outputs": [
    {
     "data": {
      "text/plain": [
       "0.13753589409622305"
      ]
     },
     "execution_count": 125,
     "metadata": {},
     "output_type": "execute_result"
    }
   ],
   "source": [
    "sharp_ratio"
   ]
  },
  {
   "cell_type": "code",
   "execution_count": 126,
   "metadata": {},
   "outputs": [
    {
     "data": {
      "text/plain": [
       "Date\n",
       "2022-02-01   -7.389684\n",
       "2022-02-02   -0.349925\n",
       "2022-02-03    4.150876\n",
       "2022-02-04    1.586830\n",
       "2022-02-07   -2.600059\n",
       "2022-02-08    2.820603\n",
       "2022-02-09   -0.096992\n",
       "2022-02-10    0.423021\n",
       "2022-02-14   -0.847528\n",
       "2022-02-15    2.390828\n",
       "2022-02-16   -0.973186\n",
       "2022-02-17   -2.640752\n",
       "2022-02-18    0.117383\n",
       "2022-02-21    2.396205\n",
       "2022-02-22    6.192549\n",
       "2022-02-24    0.393667\n",
       "2022-02-25    3.898203\n",
       "2022-02-28   -1.802206\n",
       "dtype: float64"
      ]
     },
     "execution_count": 126,
     "metadata": {},
     "output_type": "execute_result"
    }
   ],
   "source": [
    "buf"
   ]
  },
  {
   "cell_type": "code",
   "execution_count": 127,
   "metadata": {},
   "outputs": [],
   "source": [
    "test['predict'] = test['ror_1_shift4']\n",
    "test = test.sort_values([\"Date\", \"predict\"], ascending=[True, False])\n",
    "ranking = test.groupby(\"Date\").apply(set_rank).reset_index(drop=True)\n",
    "\n",
    "# calc spread return sharpe\n",
    "sharp_ratio, buf = calc_spread_return_sharpe(ranking, portfolio_size=200)"
   ]
  },
  {
   "cell_type": "code",
   "execution_count": 128,
   "metadata": {},
   "outputs": [
    {
     "data": {
      "text/plain": [
       "0.38237587210001767"
      ]
     },
     "execution_count": 128,
     "metadata": {},
     "output_type": "execute_result"
    }
   ],
   "source": [
    "sharp_ratio"
   ]
  },
  {
   "cell_type": "code",
   "execution_count": 131,
   "metadata": {},
   "outputs": [],
   "source": [
    "test['predict'] = test['ror_1_shift5'] \n",
    "test = test.sort_values([\"Date\", \"predict\"], ascending=[True, False])\n",
    "ranking = test.groupby(\"Date\").apply(set_rank).reset_index(drop=True)\n",
    "\n",
    "# calc spread return sharpe\n",
    "sharp_ratio, buf = calc_spread_return_sharpe(ranking, portfolio_size=200)"
   ]
  },
  {
   "cell_type": "code",
   "execution_count": 132,
   "metadata": {},
   "outputs": [
    {
     "data": {
      "text/plain": [
       "0.18648408573837735"
      ]
     },
     "execution_count": 132,
     "metadata": {},
     "output_type": "execute_result"
    }
   ],
   "source": [
    "sharp_ratio"
   ]
  },
  {
   "cell_type": "code",
   "execution_count": 133,
   "metadata": {},
   "outputs": [],
   "source": [
    "test['predict'] = test['ror_1_shift6'] * -1\n",
    "test = test.sort_values([\"Date\", \"predict\"], ascending=[True, False])\n",
    "ranking = test.groupby(\"Date\").apply(set_rank).reset_index(drop=True)\n",
    "\n",
    "# calc spread return sharpe\n",
    "sharp_ratio, buf = calc_spread_return_sharpe(ranking, portfolio_size=200)"
   ]
  },
  {
   "cell_type": "code",
   "execution_count": 134,
   "metadata": {},
   "outputs": [
    {
     "data": {
      "text/plain": [
       "0.27446060732493655"
      ]
     },
     "execution_count": 134,
     "metadata": {},
     "output_type": "execute_result"
    }
   ],
   "source": [
    "sharp_ratio"
   ]
  },
  {
   "cell_type": "code",
   "execution_count": 135,
   "metadata": {},
   "outputs": [],
   "source": [
    "test['predict'] = test['ror_1_shift7'] * -1\n",
    "test = test.sort_values([\"Date\", \"predict\"], ascending=[True, False])\n",
    "ranking = test.groupby(\"Date\").apply(set_rank).reset_index(drop=True)\n",
    "\n",
    "# calc spread return sharpe\n",
    "sharp_ratio, buf = calc_spread_return_sharpe(ranking, portfolio_size=200)"
   ]
  },
  {
   "cell_type": "code",
   "execution_count": 136,
   "metadata": {},
   "outputs": [
    {
     "data": {
      "text/plain": [
       "0.07261669565947101"
      ]
     },
     "execution_count": 136,
     "metadata": {},
     "output_type": "execute_result"
    }
   ],
   "source": [
    "sharp_ratio"
   ]
  },
  {
   "cell_type": "code",
   "execution_count": 137,
   "metadata": {},
   "outputs": [],
   "source": [
    "test['predict'] = test['ror_1_shift8']\n",
    "test = test.sort_values([\"Date\", \"predict\"], ascending=[True, False])\n",
    "ranking = test.groupby(\"Date\").apply(set_rank).reset_index(drop=True)\n",
    "\n",
    "# calc spread return sharpe\n",
    "sharp_ratio, buf = calc_spread_return_sharpe(ranking, portfolio_size=200)"
   ]
  },
  {
   "cell_type": "code",
   "execution_count": 138,
   "metadata": {},
   "outputs": [
    {
     "data": {
      "text/plain": [
       "0.029572088679137847"
      ]
     },
     "execution_count": 138,
     "metadata": {},
     "output_type": "execute_result"
    }
   ],
   "source": [
    "sharp_ratio"
   ]
  },
  {
   "cell_type": "code",
   "execution_count": 139,
   "metadata": {},
   "outputs": [
    {
     "data": {
      "text/plain": [
       "Date\n",
       "2022-02-01   -2.386607\n",
       "2022-02-02    1.474783\n",
       "2022-02-03    1.623672\n",
       "2022-02-04    3.661945\n",
       "2022-02-07    2.773947\n",
       "2022-02-08   -3.408623\n",
       "2022-02-09    2.167447\n",
       "2022-02-10   -0.906347\n",
       "2022-02-14    0.040817\n",
       "2022-02-15   -2.434984\n",
       "2022-02-16   -0.610788\n",
       "2022-02-17   -1.391921\n",
       "2022-02-18    1.458307\n",
       "2022-02-21    0.676896\n",
       "2022-02-22    6.606867\n",
       "2022-02-24   -0.141752\n",
       "2022-02-25   -8.052926\n",
       "2022-02-28    0.523680\n",
       "dtype: float64"
      ]
     },
     "execution_count": 139,
     "metadata": {},
     "output_type": "execute_result"
    }
   ],
   "source": [
    "buf"
   ]
  },
  {
   "cell_type": "code",
   "execution_count": 140,
   "metadata": {},
   "outputs": [],
   "source": [
    "test['predict'] = test['ror_1_shift9']\n",
    "test = test.sort_values([\"Date\", \"predict\"], ascending=[True, False])\n",
    "ranking = test.groupby(\"Date\").apply(set_rank).reset_index(drop=True)\n",
    "\n",
    "# calc spread return sharpe\n",
    "sharp_ratio, buf = calc_spread_return_sharpe(ranking, portfolio_size=200)"
   ]
  },
  {
   "cell_type": "code",
   "execution_count": 141,
   "metadata": {},
   "outputs": [
    {
     "data": {
      "text/plain": [
       "0.2601512505336804"
      ]
     },
     "execution_count": 141,
     "metadata": {},
     "output_type": "execute_result"
    }
   ],
   "source": [
    "sharp_ratio"
   ]
  },
  {
   "cell_type": "code",
   "execution_count": 142,
   "metadata": {},
   "outputs": [
    {
     "data": {
      "text/plain": [
       "Date\n",
       "2022-02-01    4.644038\n",
       "2022-02-02    0.237026\n",
       "2022-02-03    2.351151\n",
       "2022-02-04    0.380460\n",
       "2022-02-07   -5.236397\n",
       "2022-02-08    1.503130\n",
       "2022-02-09    9.491185\n",
       "2022-02-10   -0.641997\n",
       "2022-02-14    1.187148\n",
       "2022-02-15   -2.098938\n",
       "2022-02-16   -0.037112\n",
       "2022-02-17    2.127044\n",
       "2022-02-18   -0.030081\n",
       "2022-02-21    2.656741\n",
       "2022-02-22   -6.503464\n",
       "2022-02-24    0.639741\n",
       "2022-02-25    5.106645\n",
       "2022-02-28    1.031721\n",
       "dtype: float64"
      ]
     },
     "execution_count": 142,
     "metadata": {},
     "output_type": "execute_result"
    }
   ],
   "source": [
    "buf"
   ]
  },
  {
   "cell_type": "code",
   "execution_count": null,
   "metadata": {},
   "outputs": [],
   "source": []
  },
  {
   "cell_type": "code",
   "execution_count": null,
   "metadata": {},
   "outputs": [],
   "source": []
  },
  {
   "cell_type": "code",
   "execution_count": 143,
   "metadata": {},
   "outputs": [
    {
     "name": "stderr",
     "output_type": "stream",
     "text": [
      "/var/folders/ym/2nhqmm5d6zn8mfrndqmv6l_40000gn/T/ipykernel_55905/2526309627.py:1: SettingWithCopyWarning: \n",
      "A value is trying to be set on a copy of a slice from a DataFrame.\n",
      "Try using .loc[row_indexer,col_indexer] = value instead\n",
      "\n",
      "See the caveats in the documentation: https://pandas.pydata.org/pandas-docs/stable/user_guide/indexing.html#returning-a-view-versus-a-copy\n",
      "  val['predict'] = val['ror_1_shift1']*-1\n"
     ]
    }
   ],
   "source": [
    "val['predict'] = val['ror_1_shift1']*-1\n",
    "val = val.sort_values([\"Date\", \"predict\"], ascending=[True, False])\n",
    "ranking = val.groupby(\"Date\").apply(set_rank).reset_index(drop=True)\n",
    "\n",
    "# calc spread return sharpe\n",
    "sharp_ratio, buf = calc_spread_return_sharpe(ranking, portfolio_size=200)"
   ]
  },
  {
   "cell_type": "code",
   "execution_count": 144,
   "metadata": {},
   "outputs": [
    {
     "data": {
      "text/plain": [
       "0.1315713328198504"
      ]
     },
     "execution_count": 144,
     "metadata": {},
     "output_type": "execute_result"
    }
   ],
   "source": [
    "sharp_ratio"
   ]
  },
  {
   "cell_type": "code",
   "execution_count": 145,
   "metadata": {},
   "outputs": [],
   "source": [
    "val['predict'] = val['ror_1_shift2']\n",
    "val = val.sort_values([\"Date\", \"predict\"], ascending=[True, False])\n",
    "ranking = val.groupby(\"Date\").apply(set_rank).reset_index(drop=True)\n",
    "\n",
    "# calc spread return sharpe\n",
    "sharp_ratio, buf = calc_spread_return_sharpe(ranking, portfolio_size=200)"
   ]
  },
  {
   "cell_type": "code",
   "execution_count": 146,
   "metadata": {},
   "outputs": [
    {
     "data": {
      "text/plain": [
       "0.04545988906951244"
      ]
     },
     "execution_count": 146,
     "metadata": {},
     "output_type": "execute_result"
    }
   ],
   "source": [
    "sharp_ratio"
   ]
  },
  {
   "cell_type": "code",
   "execution_count": 147,
   "metadata": {},
   "outputs": [],
   "source": [
    "val['predict'] = val['ror_1_shift3'] * -1\n",
    "val = val.sort_values([\"Date\", \"predict\"], ascending=[True, False])\n",
    "ranking = val.groupby(\"Date\").apply(set_rank).reset_index(drop=True)\n",
    "\n",
    "# calc spread return sharpe\n",
    "sharp_ratio, buf = calc_spread_return_sharpe(ranking, portfolio_size=200)"
   ]
  },
  {
   "cell_type": "code",
   "execution_count": 148,
   "metadata": {},
   "outputs": [
    {
     "data": {
      "text/plain": [
       "0.05518078186649945"
      ]
     },
     "execution_count": 148,
     "metadata": {},
     "output_type": "execute_result"
    }
   ],
   "source": [
    "sharp_ratio"
   ]
  },
  {
   "cell_type": "code",
   "execution_count": 149,
   "metadata": {},
   "outputs": [],
   "source": [
    "val['predict'] = val['ror_1_shift4']\n",
    "val = val.sort_values([\"Date\", \"predict\"], ascending=[True, False])\n",
    "ranking = val.groupby(\"Date\").apply(set_rank).reset_index(drop=True)\n",
    "\n",
    "# calc spread return sharpe\n",
    "sharp_ratio, buf = calc_spread_return_sharpe(ranking, portfolio_size=200)"
   ]
  },
  {
   "cell_type": "code",
   "execution_count": 150,
   "metadata": {},
   "outputs": [
    {
     "data": {
      "text/plain": [
       "0.2580647235510238"
      ]
     },
     "execution_count": 150,
     "metadata": {},
     "output_type": "execute_result"
    }
   ],
   "source": [
    "sharp_ratio"
   ]
  },
  {
   "cell_type": "code",
   "execution_count": 151,
   "metadata": {},
   "outputs": [],
   "source": [
    "val['predict'] = val['ror_1_shift5']\n",
    "val = val.sort_values([\"Date\", \"predict\"], ascending=[True, False])\n",
    "ranking = val.groupby(\"Date\").apply(set_rank).reset_index(drop=True)\n",
    "\n",
    "# calc spread return sharpe\n",
    "sharp_ratio, buf = calc_spread_return_sharpe(ranking, portfolio_size=200)"
   ]
  },
  {
   "cell_type": "code",
   "execution_count": 152,
   "metadata": {},
   "outputs": [
    {
     "data": {
      "text/plain": [
       "-0.12376756489896905"
      ]
     },
     "execution_count": 152,
     "metadata": {},
     "output_type": "execute_result"
    }
   ],
   "source": [
    "sharp_ratio"
   ]
  },
  {
   "cell_type": "code",
   "execution_count": 156,
   "metadata": {},
   "outputs": [],
   "source": [
    "val['predict'] = val['ror_1_shift6'] * -1\n",
    "val = val.sort_values([\"Date\", \"predict\"], ascending=[True, False])\n",
    "ranking = val.groupby(\"Date\").apply(set_rank).reset_index(drop=True)\n",
    "\n",
    "# calc spread return sharpe\n",
    "sharp_ratio, buf = calc_spread_return_sharpe(ranking, portfolio_size=200)"
   ]
  },
  {
   "cell_type": "code",
   "execution_count": 157,
   "metadata": {},
   "outputs": [
    {
     "data": {
      "text/plain": [
       "0.050314781200433874"
      ]
     },
     "execution_count": 157,
     "metadata": {},
     "output_type": "execute_result"
    }
   ],
   "source": [
    "sharp_ratio"
   ]
  },
  {
   "cell_type": "code",
   "execution_count": 158,
   "metadata": {},
   "outputs": [],
   "source": [
    "val['predict'] = val['ror_1_shift7'] * -1\n",
    "val = val.sort_values([\"Date\", \"predict\"], ascending=[True, False])\n",
    "ranking = val.groupby(\"Date\").apply(set_rank).reset_index(drop=True)\n",
    "\n",
    "# calc spread return sharpe\n",
    "sharp_ratio, buf = calc_spread_return_sharpe(ranking, portfolio_size=200)"
   ]
  },
  {
   "cell_type": "code",
   "execution_count": 159,
   "metadata": {},
   "outputs": [
    {
     "data": {
      "text/plain": [
       "0.07286701346449133"
      ]
     },
     "execution_count": 159,
     "metadata": {},
     "output_type": "execute_result"
    }
   ],
   "source": [
    "sharp_ratio"
   ]
  },
  {
   "cell_type": "code",
   "execution_count": 160,
   "metadata": {},
   "outputs": [],
   "source": [
    "val['predict'] = val['ror_1_shift8']\n",
    "val = val.sort_values([\"Date\", \"predict\"], ascending=[True, False])\n",
    "ranking = val.groupby(\"Date\").apply(set_rank).reset_index(drop=True)\n",
    "\n",
    "# calc spread return sharpe\n",
    "sharp_ratio, buf = calc_spread_return_sharpe(ranking, portfolio_size=200)"
   ]
  },
  {
   "cell_type": "code",
   "execution_count": 161,
   "metadata": {},
   "outputs": [
    {
     "data": {
      "text/plain": [
       "0.17820526621605412"
      ]
     },
     "execution_count": 161,
     "metadata": {},
     "output_type": "execute_result"
    }
   ],
   "source": [
    "sharp_ratio"
   ]
  },
  {
   "cell_type": "code",
   "execution_count": 162,
   "metadata": {},
   "outputs": [],
   "source": [
    "val['predict'] = val['ror_1_shift9']\n",
    "val = val.sort_values([\"Date\", \"predict\"], ascending=[True, False])\n",
    "ranking = val.groupby(\"Date\").apply(set_rank).reset_index(drop=True)\n",
    "\n",
    "# calc spread return sharpe\n",
    "sharp_ratio, buf = calc_spread_return_sharpe(ranking, portfolio_size=200)"
   ]
  },
  {
   "cell_type": "code",
   "execution_count": 163,
   "metadata": {},
   "outputs": [
    {
     "data": {
      "text/plain": [
       "0.1425925030522431"
      ]
     },
     "execution_count": 163,
     "metadata": {},
     "output_type": "execute_result"
    }
   ],
   "source": [
    "sharp_ratio"
   ]
  },
  {
   "cell_type": "code",
   "execution_count": null,
   "metadata": {},
   "outputs": [],
   "source": []
  },
  {
   "cell_type": "code",
   "execution_count": null,
   "metadata": {},
   "outputs": [],
   "source": []
  },
  {
   "cell_type": "code",
   "execution_count": 164,
   "metadata": {},
   "outputs": [
    {
     "name": "stderr",
     "output_type": "stream",
     "text": [
      "/var/folders/ym/2nhqmm5d6zn8mfrndqmv6l_40000gn/T/ipykernel_55905/3774859108.py:1: SettingWithCopyWarning: \n",
      "A value is trying to be set on a copy of a slice from a DataFrame.\n",
      "Try using .loc[row_indexer,col_indexer] = value instead\n",
      "\n",
      "See the caveats in the documentation: https://pandas.pydata.org/pandas-docs/stable/user_guide/indexing.html#returning-a-view-versus-a-copy\n",
      "  train['predict'] = train['ror_1_shift1']*-1\n"
     ]
    }
   ],
   "source": [
    "train['predict'] = train['ror_1_shift1']*-1\n",
    "train = train.sort_values([\"Date\", \"predict\"], ascending=[True, False])\n",
    "ranking = train.groupby(\"Date\").apply(set_rank).reset_index(drop=True)\n",
    "\n",
    "# calc spread return sharpe\n",
    "sharp_ratio, buf = calc_spread_return_sharpe(ranking, portfolio_size=200)"
   ]
  },
  {
   "cell_type": "code",
   "execution_count": 165,
   "metadata": {},
   "outputs": [
    {
     "data": {
      "text/plain": [
       "0.04655484654438009"
      ]
     },
     "execution_count": 165,
     "metadata": {},
     "output_type": "execute_result"
    }
   ],
   "source": [
    "sharp_ratio"
   ]
  },
  {
   "cell_type": "code",
   "execution_count": 166,
   "metadata": {},
   "outputs": [],
   "source": [
    "train['predict'] = train['ror_1_shift2']\n",
    "train = train.sort_values([\"Date\", \"predict\"], ascending=[True, False])\n",
    "ranking = train.groupby(\"Date\").apply(set_rank).reset_index(drop=True)\n",
    "\n",
    "# calc spread return sharpe\n",
    "sharp_ratio, buf = calc_spread_return_sharpe(ranking, portfolio_size=200)"
   ]
  },
  {
   "cell_type": "code",
   "execution_count": 167,
   "metadata": {},
   "outputs": [
    {
     "data": {
      "text/plain": [
       "-0.005339698247159365"
      ]
     },
     "execution_count": 167,
     "metadata": {},
     "output_type": "execute_result"
    }
   ],
   "source": [
    "sharp_ratio"
   ]
  },
  {
   "cell_type": "code",
   "execution_count": 168,
   "metadata": {},
   "outputs": [],
   "source": [
    "train['predict'] = train['ror_1_shift3'] * -1\n",
    "train = train.sort_values([\"Date\", \"predict\"], ascending=[True, False])\n",
    "ranking = train.groupby(\"Date\").apply(set_rank).reset_index(drop=True)\n",
    "\n",
    "# calc spread return sharpe\n",
    "sharp_ratio, buf = calc_spread_return_sharpe(ranking, portfolio_size=200)"
   ]
  },
  {
   "cell_type": "code",
   "execution_count": 169,
   "metadata": {},
   "outputs": [
    {
     "data": {
      "text/plain": [
       "-0.0002541898277221027"
      ]
     },
     "execution_count": 169,
     "metadata": {},
     "output_type": "execute_result"
    }
   ],
   "source": [
    "sharp_ratio"
   ]
  },
  {
   "cell_type": "code",
   "execution_count": 170,
   "metadata": {},
   "outputs": [],
   "source": [
    "train['predict'] = train['ror_1_shift4']\n",
    "train = train.sort_values([\"Date\", \"predict\"], ascending=[True, False])\n",
    "ranking = train.groupby(\"Date\").apply(set_rank).reset_index(drop=True)\n",
    "\n",
    "# calc spread return sharpe\n",
    "sharp_ratio, buf = calc_spread_return_sharpe(ranking, portfolio_size=200)"
   ]
  },
  {
   "cell_type": "code",
   "execution_count": 171,
   "metadata": {},
   "outputs": [
    {
     "data": {
      "text/plain": [
       "-0.01520364967717422"
      ]
     },
     "execution_count": 171,
     "metadata": {},
     "output_type": "execute_result"
    }
   ],
   "source": [
    "sharp_ratio"
   ]
  },
  {
   "cell_type": "code",
   "execution_count": 172,
   "metadata": {},
   "outputs": [],
   "source": [
    "train['predict'] = train['ror_1_shift5']\n",
    "train = train.sort_values([\"Date\", \"predict\"], ascending=[True, False])\n",
    "ranking = train.groupby(\"Date\").apply(set_rank).reset_index(drop=True)\n",
    "\n",
    "# calc spread return sharpe\n",
    "sharp_ratio, buf = calc_spread_return_sharpe(ranking, portfolio_size=200)"
   ]
  },
  {
   "cell_type": "code",
   "execution_count": 173,
   "metadata": {},
   "outputs": [
    {
     "data": {
      "text/plain": [
       "-0.0294184702297882"
      ]
     },
     "execution_count": 173,
     "metadata": {},
     "output_type": "execute_result"
    }
   ],
   "source": [
    "sharp_ratio"
   ]
  },
  {
   "cell_type": "code",
   "execution_count": 174,
   "metadata": {},
   "outputs": [],
   "source": [
    "train['predict'] = train['ror_1_shift6'] * -1\n",
    "train = train.sort_values([\"Date\", \"predict\"], ascending=[True, False])\n",
    "ranking = train.groupby(\"Date\").apply(set_rank).reset_index(drop=True)\n",
    "\n",
    "# calc spread return sharpe\n",
    "sharp_ratio, buf = calc_spread_return_sharpe(ranking, portfolio_size=200)"
   ]
  },
  {
   "cell_type": "code",
   "execution_count": 175,
   "metadata": {},
   "outputs": [
    {
     "data": {
      "text/plain": [
       "0.018835266939211195"
      ]
     },
     "execution_count": 175,
     "metadata": {},
     "output_type": "execute_result"
    }
   ],
   "source": [
    "sharp_ratio"
   ]
  },
  {
   "cell_type": "code",
   "execution_count": 176,
   "metadata": {},
   "outputs": [],
   "source": [
    "train['predict'] = train['ror_1_shift7'] * -1\n",
    "train = train.sort_values([\"Date\", \"predict\"], ascending=[True, False])\n",
    "ranking = train.groupby(\"Date\").apply(set_rank).reset_index(drop=True)\n",
    "\n",
    "# calc spread return sharpe\n",
    "sharp_ratio, buf = calc_spread_return_sharpe(ranking, portfolio_size=200)"
   ]
  },
  {
   "cell_type": "code",
   "execution_count": 177,
   "metadata": {},
   "outputs": [
    {
     "data": {
      "text/plain": [
       "0.013072541812158408"
      ]
     },
     "execution_count": 177,
     "metadata": {},
     "output_type": "execute_result"
    }
   ],
   "source": [
    "sharp_ratio"
   ]
  },
  {
   "cell_type": "code",
   "execution_count": 178,
   "metadata": {},
   "outputs": [],
   "source": [
    "train['predict'] = train['ror_1_shift8']\n",
    "train = train.sort_values([\"Date\", \"predict\"], ascending=[True, False])\n",
    "ranking = train.groupby(\"Date\").apply(set_rank).reset_index(drop=True)\n",
    "\n",
    "# calc spread return sharpe\n",
    "sharp_ratio, buf = calc_spread_return_sharpe(ranking, portfolio_size=200)"
   ]
  },
  {
   "cell_type": "code",
   "execution_count": 179,
   "metadata": {},
   "outputs": [
    {
     "data": {
      "text/plain": [
       "0.009384485735306945"
      ]
     },
     "execution_count": 179,
     "metadata": {},
     "output_type": "execute_result"
    }
   ],
   "source": [
    "sharp_ratio"
   ]
  },
  {
   "cell_type": "code",
   "execution_count": 180,
   "metadata": {},
   "outputs": [],
   "source": [
    "train['predict'] = train['ror_1_shift9']\n",
    "train = train.sort_values([\"Date\", \"predict\"], ascending=[True, False])\n",
    "ranking = train.groupby(\"Date\").apply(set_rank).reset_index(drop=True)\n",
    "\n",
    "# calc spread return sharpe\n",
    "sharp_ratio, buf = calc_spread_return_sharpe(ranking, portfolio_size=200)"
   ]
  },
  {
   "cell_type": "code",
   "execution_count": 181,
   "metadata": {},
   "outputs": [
    {
     "data": {
      "text/plain": [
       "0.011776102970169742"
      ]
     },
     "execution_count": 181,
     "metadata": {},
     "output_type": "execute_result"
    }
   ],
   "source": [
    "sharp_ratio"
   ]
  },
  {
   "cell_type": "code",
   "execution_count": null,
   "metadata": {},
   "outputs": [],
   "source": []
  }
 ],
 "metadata": {
  "interpreter": {
   "hash": "12543d8aedefe43b1af9739f504be95c6574cbf3bd96045c58756e8a60ca5178"
  },
  "kernelspec": {
   "display_name": "Python 3.9.9 ('.venv': poetry)",
   "language": "python",
   "name": "python3"
  },
  "language_info": {
   "codemirror_mode": {
    "name": "ipython",
    "version": 3
   },
   "file_extension": ".py",
   "mimetype": "text/x-python",
   "name": "python",
   "nbconvert_exporter": "python",
   "pygments_lexer": "ipython3",
   "version": "3.9.9"
  },
  "orig_nbformat": 4
 },
 "nbformat": 4,
 "nbformat_minor": 2
}
